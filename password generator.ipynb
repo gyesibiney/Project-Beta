{
 "cells": [
  {
   "cell_type": "code",
   "execution_count": 1,
   "id": "c86fa7b4",
   "metadata": {},
   "outputs": [
    {
     "data": {
      "text/plain": [
       "10"
      ]
     },
     "execution_count": 1,
     "metadata": {},
     "output_type": "execute_result"
    }
   ],
   "source": [
    "letters=['A','B','C','D','E','F','G','H','I','J','K','L','M','N','O','P','Q','R','S','T','U','V','W','X','Y','Z']\n",
    "numbers=['0','1','2','3','4','5','6','7','8','9']\n",
    "symbols=['!','@','#','$','%','^','&','*','()',')','_','-','+','=']\n",
    "\n",
    "len(numbers)"
   ]
  },
  {
   "cell_type": "code",
   "execution_count": 13,
   "id": "7d0b6c56",
   "metadata": {},
   "outputs": [
    {
     "name": "stdout",
     "output_type": "stream",
     "text": [
      " please enter your name to continue or \"exit\" to end program:kofi\n",
      "please enter the number   of letters: 2\n",
      "please enter the number of symbols: 2\n",
      "please enter the number of numbers: 2\n",
      "Name       password  \n",
      "Kofi       B8c)(2$   \n",
      " please enter your name to continue or \"exit\" to end program:cee\n",
      "please enter the number   of letters: 5\n",
      "please enter the number of symbols: 6\n",
      "please enter the number of numbers: 4\n",
      "Name       password  \n",
      "Kofi       B8c)(2$   \n",
      "Cee        *^v5)u1(%)(w74#mc\n",
      " please enter your name to continue or \"exit\" to end program:exit\n"
     ]
    }
   ],
   "source": [
    "import random\n",
    "\n",
    "def random_choice(char_type, user_input):\n",
    "    selection = ''\n",
    "    for letter in range(0,user_input):\n",
    "        random_num = random.randint(0, len(char_type)-1)\n",
    "        selected = char_type[random_num]\n",
    "        selection += selected    \n",
    "    return selection\n",
    "\n",
    "\n",
    "customer_archive={}\n",
    "\n",
    "should_continue= True\n",
    "\n",
    "while should_continue:\n",
    "    user_name= input(' please enter your name to continue or \"exit\" to end program:')\n",
    "\n",
    "    if user_name.lower() != 'exit':\n",
    "\n",
    "        letters_num = int(input('please enter the number   of letters: '))\n",
    "        symbols_num = int(input('please enter the number of symbols: '))\n",
    "        numbers_num = int(input('please enter the number of numbers: '))\n",
    "\n",
    "        letter_choice = random_choice(letters, letters_num)\n",
    "        symbol_choice = random_choice(symbols, symbols_num)\n",
    "        number_choice = random_choice(char_type= numbers, user_input= numbers_num)\n",
    "\n",
    "\n",
    "        password = letter_choice.capitalize() + symbol_choice + number_choice\n",
    "       # print(password)\n",
    "\n",
    "        password_list= []\n",
    "        for elements in password:\n",
    "            password_list.append(elements)\n",
    "       # print(password_list)\n",
    "\n",
    "        random.shuffle(password_list)\n",
    "       # print(password_list)\n",
    "\n",
    "        shuffled_password= ''\n",
    "        for items in password_list:\n",
    "            shuffled_password += items\n",
    "        #print(shuffled_password)\n",
    "    \n",
    "        user_info= {user_name.capitalize(): shuffled_password.capitalize()}\n",
    "        #print(user_info)\n",
    "        print('{:<10} {:<10}'. format('name' ,'password').capitalize())\n",
    "        customer_archive.update(user_info)\n",
    "        \n",
    "        for keys,values in customer_archive.items():\n",
    "            user_name = keys\n",
    "            shuffled_password = values\n",
    "            print('{:<10} {:<10}'. format(user_name, shuffled_password))\n",
    "    \n",
    "    else:\n",
    "        should_continue= False"
   ]
  }
 ],
 "metadata": {
  "kernelspec": {
   "display_name": "Python 3 (ipykernel)",
   "language": "python",
   "name": "python3"
  },
  "language_info": {
   "codemirror_mode": {
    "name": "ipython",
    "version": 3
   },
   "file_extension": ".py",
   "mimetype": "text/x-python",
   "name": "python",
   "nbconvert_exporter": "python",
   "pygments_lexer": "ipython3",
   "version": "3.9.12"
  }
 },
 "nbformat": 4,
 "nbformat_minor": 5
}
